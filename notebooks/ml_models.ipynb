{
 "cells": [
  {
   "cell_type": "code",
   "execution_count": null,
   "metadata": {},
   "outputs": [],
   "source": [
    "#Import Libraries\n",
    "import sys\n",
    "import os\n",
    "import pandas as pd\n",
    "from datetime import datetime"
   ]
  },
  {
   "cell_type": "code",
   "execution_count": null,
   "metadata": {},
   "outputs": [],
   "source": [
    "# Add the '../scripts' directory to the Python module search path.\n",
    "# This allows us to import modules from that directory, \n",
    "# facilitating better organization of our code and access to shared scripts.\n",
    "sys.path.append(os.path.abspath('../scripts'))"
   ]
  },
  {
   "cell_type": "code",
   "execution_count": null,
   "metadata": {},
   "outputs": [],
   "source": [
    "# Import the modules\n",
    "import data_processing as dp\n",
    "import model as m\n"
   ]
  },
  {
   "cell_type": "code",
   "execution_count": null,
   "metadata": {},
   "outputs": [],
   "source": [
    "\n",
    "\n",
    "# Load and clean data\n",
    "filepath = '../data/insurance.csv'\n",
    "data = dp.load_and_clean_data(filepath)\n",
    "\n",
    "# Encode and scale the data\n",
    "columns_label = ['sex', 'smoker', 'region']\n",
    "columns_onehot = ['sex', 'smoker', 'region', 'children']\n",
    "df_label = dp.encoder('labelEncoder', data, columns_label, columns_onehot)\n",
    "\n",
    "columns_scaler = ['charges']\n",
    "df_scaled = dp.scaler('minMaxScaler', df_label, columns_scaler)\n",
    "\n",
    "# Split the data\n",
    "X = df_scaled.drop('charges', axis=1)\n",
    "y = df_scaled['charges']\n",
    "X_train, X_test, y_train, y_test = m.split_data(X, y)\n",
    "\n",
    "# Train models\n",
    "lr_model, dt_model, rfr_model, xgb_model = m.train_models(X_train, y_train)\n",
    "\n",
    "# Evaluate models\n",
    "models = ['Linear Regression', 'Decision Tree', 'Random Forest', 'XGBoost']\n",
    "mae_scores, mse_scores, r2_scores = [], [], []\n",
    "for model in [lr_model, dt_model, rfr_model, xgb_model]:\n",
    "    mae, mse, r2, _ = m.evaluate_model(model, X_test, y_test)\n",
    "    mae_scores.append(mae)\n",
    "    mse_scores.append(mse)\n",
    "    r2_scores.append(r2)\n",
    "\n",
    "# Plot metrics\n",
    "m.plot_metrics(models, mae_scores, mse_scores, r2_scores)\n"
   ]
  }
 ],
 "metadata": {
  "language_info": {
   "name": "python"
  }
 },
 "nbformat": 4,
 "nbformat_minor": 2
}
