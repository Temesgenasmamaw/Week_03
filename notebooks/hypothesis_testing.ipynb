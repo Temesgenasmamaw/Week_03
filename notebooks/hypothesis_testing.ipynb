{
 "cells": [
  {
   "cell_type": "code",
   "execution_count": 1,
   "metadata": {},
   "outputs": [],
   "source": [
    "# Import libraries\n",
    "import pandas as pd\n",
    "import numpy as np\n",
    "import seaborn as sns\n",
    "import matplotlib.pyplot as plt\n",
    "import scipy.stats as stats\n",
    "import os, sys\n",
    "# Add the 'scripts' directory to the Python path for module imports\n",
    "sys.path.append(os.path.abspath(os.path.join('..', 'scripts')))"
   ]
  },
  {
   "cell_type": "code",
   "execution_count": 2,
   "metadata": {},
   "outputs": [],
   "source": [
    "\n",
    "# Read the dataset\n",
    "df = pd.read_csv('../data/cleanedDataset.csv', low_memory=False, index_col=False)"
   ]
  },
  {
   "cell_type": "code",
   "execution_count": 3,
   "metadata": {},
   "outputs": [
    {
     "name": "stdout",
     "output_type": "stream",
     "text": [
      "--- Risk Differences Across Provinces ---\n",
      "Chi-squared test on Province and TotalPremium: chi2 = 2198720.0560572664, p-value = 0.0\n",
      "Reject the null hypothesis.\n",
      "\n",
      "--- Risk Differences Between Postal Codes ---\n",
      "Chi-squared test on PostalCode and TotalPremium: chi2 = 182589197.14373723, p-value = 0.0\n",
      "Reject the null hypothesis.\n",
      "\n",
      "--- Margin Differences Between Postal Codes ---\n",
      "Z-test on TotalPremium: Z-statistic = -4.256402256391749, p-value = 2.0774279581692312e-05\n",
      "Reject the null hypothesis.\n",
      "\n",
      "--- Risk Differences Between Women and Men ---\n",
      "T-test on TotalPremium: T-statistic = -0.82823800820278, p-value = 0.4075400891888227\n",
      "Fail to reject the null hypothesis.\n",
      "\n"
     ]
    }
   ],
   "source": [
    "# Initialize the class\n",
    "from hypothesis_testing import ABHypothesisTesting\n",
    "ab_test = ABHypothesisTesting(df)\n",
    "\n",
    "# Run all tests and print results in a human-readable format\n",
    "results = ab_test.run_all_tests()\n",
    "\n",
    "for test_name, result in results.items():\n",
    "    print(f'--- {test_name} ---')\n",
    "    print(result)\n",
    "    print()  # Print a newline for better readability"
   ]
  }
 ],
 "metadata": {
  "kernelspec": {
   "display_name": ".venv",
   "language": "python",
   "name": "python3"
  },
  "language_info": {
   "codemirror_mode": {
    "name": "ipython",
    "version": 3
   },
   "file_extension": ".py",
   "mimetype": "text/x-python",
   "name": "python",
   "nbconvert_exporter": "python",
   "pygments_lexer": "ipython3",
   "version": "3.11.9"
  }
 },
 "nbformat": 4,
 "nbformat_minor": 2
}
