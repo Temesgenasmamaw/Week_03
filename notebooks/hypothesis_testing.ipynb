{
 "cells": [
  {
   "cell_type": "code",
   "execution_count": 1,
   "metadata": {},
   "outputs": [],
   "source": [
    "# Import libraries\n",
    "import pandas as pd\n",
    "import numpy as np\n",
    "import seaborn as sns\n",
    "import matplotlib.pyplot as plt\n",
    "import scipy.stats as stats\n",
    "import os, sys\n",
    "# Add the 'scripts' directory to the Python path for module imports\n",
    "sys.path.append(os.path.abspath(os.path.join('..', 'scripts')))"
   ]
  },
  {
   "cell_type": "code",
   "execution_count": 2,
   "metadata": {},
   "outputs": [],
   "source": [
    "\n",
    "# Read the dataset\n",
    "df = pd.read_csv('../data/cleanedDataset.csv', low_memory=False, index_col=False)"
   ]
  },
  {
   "cell_type": "code",
   "execution_count": 3,
   "metadata": {},
   "outputs": [
    {
     "name": "stdout",
     "output_type": "stream",
     "text": [
      "*** A/B Test: Risk Differences Between Province_A and Province_B ***\n",
      "One of the groups is empty. A/B test cannot be performed on Province_A and Province_B.\n",
      "\n",
      "*** A/B Test: Risk Differences Between PostalCode 1234 and PostalCode 5678 ***\n",
      "One of the groups is empty. A/B test cannot be performed on 1234 and 5678.\n",
      "\n",
      "*** A/B Test: Risk Differences Between Men and Women ***\n",
      "Z-test on TotalPremium: Z-statistic = -0.8013377046545027, p-value = 0.42293616848457005\n",
      "Fail to reject the null hypothesis.\n",
      "\n"
     ]
    }
   ],
   "source": [
    "\n",
    "# Initialize the class\n",
    "from hypothesis_testing import ABHypothesisTesting\n",
    "ab_test = ABHypothesisTesting(df)\n",
    "# A/B Test 1: Compare two provinces (e.g., Province_A and Province_B)\n",
    "result_province = ab_test.perform_ab_test('Province', 'Province_A', 'Province_B', 'TotalPremium')\n",
    "print('*** A/B Test: Risk Differences Between Province_A and Province_B ***')\n",
    "print(result_province)\n",
    "print()\n",
    "\n",
    "# A/B Test 2: Compare two postal codes (e.g., PostalCode 1234 and PostalCode 5678)\n",
    "result_postalcode = ab_test.perform_ab_test('PostalCode', '1234', '5678', 'TotalPremium')\n",
    "print('*** A/B Test: Risk Differences Between PostalCode 1234 and PostalCode 5678 ***')\n",
    "print(result_postalcode)\n",
    "print()\n",
    "\n",
    "# A/B Test 3: Compare gender (e.g., Male and Female)\n",
    "result_gender = ab_test.perform_ab_test('Gender', 'Male', 'Female', 'TotalPremium')\n",
    "print('*** A/B Test: Risk Differences Between Men and Women ***')\n",
    "print(result_gender)\n",
    "print()"
   ]
  },
  {
   "cell_type": "markdown",
   "metadata": {},
   "source": [
    "#### A/B Test: Risk Differences Between Men and Women\n",
    "Result: \"Z-test on TotalPremium: Z-statistic = -0.8013377046545027, p-value = 0.42293616848457005. Fail to reject the null hypothesis.\"\n",
    "\n",
    "Interpretation:\n",
    "\n",
    "The Z-statistic value of -0.801 shows that the difference in the means of TotalPremium between men and women is relatively small.\n",
    "The p-value of 0.423 is much larger than the significance level (typically 0.05), which means we fail to reject the null hypothesis.\n",
    "Conclusion: There is no statistically significant difference in the risk (as measured by TotalPremium) between men and women in the dataset. In other words, based on this analysis, gender does not seem to influence the total premium amount significantly."
   ]
  },
  {
   "cell_type": "code",
   "execution_count": 4,
   "metadata": {},
   "outputs": [
    {
     "name": "stdout",
     "output_type": "stream",
     "text": [
      "*** Risk Differences Across Provinces ***\n",
      "Chi-squared test on Province and TotalPremium: chi2 = 2198720.0560572664, p-value = 0.0\n",
      "Reject the null hypothesis.\n",
      "\n",
      "*** Risk Differences Between Postal Codes ***\n",
      "Chi-squared test on PostalCode and TotalPremium: chi2 = 182589197.14373723, p-value = 0.0\n",
      "Reject the null hypothesis.\n",
      "\n",
      "*** Margin Differences Between Postal Codes ***\n",
      "Z-test on TotalPremium: Z-statistic = -4.256402256391749, p-value = 2.0774279581692312e-05\n",
      "Reject the null hypothesis.\n",
      "\n",
      "*** Risk Differences Between Women and Men ***\n",
      "T-test on TotalPremium: T-statistic = -0.82823800820278, p-value = 0.4075400891888227\n",
      "Fail to reject the null hypothesis.\n",
      "\n"
     ]
    }
   ],
   "source": [
    "# Initialize the class\n",
    "from hypothesis_testing import ABHypothesisTesting\n",
    "ab_test = ABHypothesisTesting(df)\n",
    "\n",
    "# Run all tests and print results in a human-readable format\n",
    "results = ab_test.run_all_tests()\n",
    "\n",
    "for test_name, result in results.items():\n",
    "    print(f'*** {test_name} ***')\n",
    "    print(result)\n",
    "    print()  # Print a newline for better readability"
   ]
  },
  {
   "cell_type": "markdown",
   "metadata": {},
   "source": [
    "### Detail Interpretation"
   ]
  },
  {
   "cell_type": "markdown",
   "metadata": {},
   "source": [
    "#### 1. Risk Differences Across Provinces\n",
    "Chi-squared test on Province and TotalPremium:\n",
    "\n",
    "Chi-squared statistic (χ²): 2198720.056\\\n",
    "p-value: 0.0 (effectively very close to zero)\\\n",
    "Conclusion: \"Reject the null hypothesis.\"\\\n",
    "Interpretation: \n",
    "\n",
    "The chi-squared test is used to determine if there is a significant relationship between categorical variables (in this case, Province and TotalPremium).\n",
    "Since the p-value is 0.0, this indicates that the differences in risk (as measured by TotalPremium) across provinces are statistically significant.\n",
    "Conclusion: There are significant risk differences across different provinces in your dataset. This suggests that location (province) is an important factor in determining insurance risk, and AlphaCare Insurance Solutions (ACIS) may want to consider adjusting premiums based on the province of residence.\n",
    "#### 2. Risk Differences Between Postal Codes\n",
    "Chi-squared test on PostalCode and TotalPremium:\n",
    "\n",
    "Chi-squared statistic (χ²): 182589197.144\\\n",
    "p-value: 0.0\\\n",
    "Conclusion: \"Reject the null hypothesis.\"\\\n",
    "Interpretation:\n",
    "\n",
    "Similar to the provincial test, the chi-squared test here assesses whether there are significant differences in TotalPremium based on postal codes.\n",
    "With a p-value of 0.0, you can conclude that there are statistically significant differences in risk (as measured by TotalPremium) between postal codes.\n",
    "Conclusion: The results suggest that certain postal codes may have higher or lower risks, and therefore, ACIS might want to consider postal code-based segmentation for more precise risk assessments and targeted marketing strategies.\n",
    "#### 3. Margin Differences Between Postal Codes\n",
    "Z-test on TotalPremium:\n",
    "\n",
    "Z-statistic: -4.256 \\\n",
    "p-value: 2.077e-05\\\n",
    "Conclusion: \"Reject the null hypothesis.\"\\\n",
    "Interpretation:\n",
    "\n",
    "The Z-test is used to compare the means of two groups (in this case, postal codes) to see if there is a significant difference.\n",
    "A Z-statistic of -4.256 means that the difference in TotalPremium between the two postal codes is large enough to be statistically significant.\n",
    "The p-value of 2.08e-05 is far below the typical significance threshold of 0.05, leading to the rejection of the null hypothesis.\n",
    "Conclusion: There is a statistically significant margin difference (in terms of TotalPremium) between the two postal codes being compared. ACIS could potentially optimize pricing strategies or focus marketing efforts differently in these postal codes.\n",
    "#### 4. Risk Differences Between Women and Men\n",
    "T-test on TotalPremium:\n",
    "\n",
    "T-statistic: -0.828\\\n",
    "p-value: 0.408\\\n",
    "Conclusion: \"Fail to reject the null hypothesis.\"\\\n",
    "Interpretation:\n",
    "\n",
    "The T-test is used here to compare the means of TotalPremium between men and women.\n",
    "A T-statistic of -0.828 indicates that the difference in means between the two groups is small.\n",
    "The p-value of 0.408 is larger than the 0.05 significance threshold, meaning that we fail to reject the null hypothesis.\n",
    "Conclusion: There is no statistically significant difference in risk (as measured by TotalPremium) between men and women. This suggests that gender does not play a significant role in determining risk, at least in terms of the total premium paid in this dataset."
   ]
  },
  {
   "cell_type": "markdown",
   "metadata": {},
   "source": [
    "### Overall Insights:\n",
    "Provinces and Postal Codes: Both the chi-squared tests for provinces and postal codes show significant differences in risk across locations. This suggests that geographic location is a crucial factor in determining insurance risk, and ACIS should consider location-based strategies for pricing and marketing.\n",
    "\n",
    "Postal Code Margins: The Z-test shows significant differences in margins (or premiums) between certain postal codes, reinforcing the idea that postal codes have distinct risk profiles.\n",
    "\n",
    "Gender: The t-test suggests that there is no meaningful difference in risk between men and women based on TotalPremium, so gender-based pricing adjustments may not be necessary in this case."
   ]
  },
  {
   "cell_type": "code",
   "execution_count": null,
   "metadata": {},
   "outputs": [],
   "source": []
  }
 ],
 "metadata": {
  "kernelspec": {
   "display_name": ".venv",
   "language": "python",
   "name": "python3"
  },
  "language_info": {
   "codemirror_mode": {
    "name": "ipython",
    "version": 3
   },
   "file_extension": ".py",
   "mimetype": "text/x-python",
   "name": "python",
   "nbconvert_exporter": "python",
   "pygments_lexer": "ipython3",
   "version": "3.11.9"
  }
 },
 "nbformat": 4,
 "nbformat_minor": 2
}
